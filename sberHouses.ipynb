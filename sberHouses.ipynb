{
 "cells": [
  {
   "cell_type": "code",
   "execution_count": 25,
   "id": "6842b5b1",
   "metadata": {},
   "outputs": [],
   "source": [
    "import pandas as pd\n",
    "import numpy as np\n",
    "from tqdm import tqdm\n",
    "import seaborn as sns\n",
    "import matplotlib.pyplot as plt\n",
    "from sklearn.linear_model import LinearRegression, Lasso, Ridge, SGDRegressor\n",
    "from sklearn.linear_model import LassoCV, RidgeCV\n",
    "from sklearn.ensemble import RandomForestRegressor\n",
    "from sklearn.metrics import mean_absolute_error, mean_squared_error\n",
    "from sklearn.ensemble import RandomForestRegressor\n",
    "from sklearn.model_selection import train_test_split\n",
    "from sklearn.datasets import make_regression\n",
    "from sklearn.preprocessing import StandardScaler\n",
    "from sklearn.preprocessing import LabelEncoder\n",
    "from tqdm import tqdm\n",
    "import time\n",
    "from sklearn.model_selection import train_test_split\n",
    "from sklearn.inspection import permutation_importance\n",
    "from sklearn.model_selection import StratifiedKFold, cross_val_score, KFold\n",
    "from sklearn.metrics import make_scorer\n",
    "import xgboost as xgb"
   ]
  },
  {
   "cell_type": "code",
   "execution_count": 3,
   "id": "a4f0582d",
   "metadata": {},
   "outputs": [],
   "source": [
    "data = pd.read_csv('data/train.csv')"
   ]
  },
  {
   "cell_type": "code",
   "execution_count": 4,
   "id": "311ccb0c",
   "metadata": {},
   "outputs": [],
   "source": [
    "data.dropna(inplace=True)"
   ]
  },
  {
   "cell_type": "code",
   "execution_count": 5,
   "id": "d4d5019e",
   "metadata": {},
   "outputs": [],
   "source": [
    "freq_encoding = data['sub_area'].value_counts() / len(data)\n",
    "data['sub_area'] = data['sub_area'].map(freq_encoding)\n",
    "data['timestamp'] = pd.to_datetime(data['timestamp'])"
   ]
  },
  {
   "cell_type": "code",
   "execution_count": 6,
   "id": "4000f15c",
   "metadata": {},
   "outputs": [],
   "source": [
    "def label_encode_categorical(data):\n",
    "    label_encoder = LabelEncoder()\n",
    "\n",
    "    for column in data.select_dtypes(include=['object', 'category']).columns:\n",
    "        data[column] = label_encoder.fit_transform(data[column])\n",
    "    \n",
    "    data = data.drop(columns=data.select_dtypes(include=['object', 'category']).columns)\n",
    "\n",
    "    for column in data.select_dtypes(include=['datetime']).columns:\n",
    "        data[column] = data[column].dt.month\n",
    "        data[column] = data[column].apply(lambda x: 'supper' if x in [3, 4, 5] else\n",
    "                                                       ('summer' if x in [6, 7, 8] else\n",
    "                                                       ('autumn' if x in [9, 10, 11] else 'winter')))\n",
    "\n",
    "    return data"
   ]
  },
  {
   "cell_type": "code",
   "execution_count": 7,
   "id": "ff9180b3",
   "metadata": {},
   "outputs": [],
   "source": [
    "processed_data = label_encode_categorical(data)"
   ]
  },
  {
   "cell_type": "code",
   "execution_count": 8,
   "id": "3fc45ac1",
   "metadata": {},
   "outputs": [
    {
     "data": {
      "text/html": [
       "<div>\n",
       "<style scoped>\n",
       "    .dataframe tbody tr th:only-of-type {\n",
       "        vertical-align: middle;\n",
       "    }\n",
       "\n",
       "    .dataframe tbody tr th {\n",
       "        vertical-align: top;\n",
       "    }\n",
       "\n",
       "    .dataframe thead th {\n",
       "        text-align: right;\n",
       "    }\n",
       "</style>\n",
       "<table border=\"1\" class=\"dataframe\">\n",
       "  <thead>\n",
       "    <tr style=\"text-align: right;\">\n",
       "      <th></th>\n",
       "      <th>id</th>\n",
       "      <th>timestamp</th>\n",
       "      <th>full_sq</th>\n",
       "      <th>life_sq</th>\n",
       "      <th>floor</th>\n",
       "      <th>max_floor</th>\n",
       "      <th>material</th>\n",
       "      <th>build_year</th>\n",
       "      <th>num_room</th>\n",
       "      <th>kitch_sq</th>\n",
       "      <th>...</th>\n",
       "      <th>cafe_count_5000_price_2500</th>\n",
       "      <th>cafe_count_5000_price_4000</th>\n",
       "      <th>cafe_count_5000_price_high</th>\n",
       "      <th>big_church_count_5000</th>\n",
       "      <th>church_count_5000</th>\n",
       "      <th>mosque_count_5000</th>\n",
       "      <th>leisure_count_5000</th>\n",
       "      <th>sport_count_5000</th>\n",
       "      <th>market_count_5000</th>\n",
       "      <th>price_doc</th>\n",
       "    </tr>\n",
       "  </thead>\n",
       "  <tbody>\n",
       "    <tr>\n",
       "      <th>8056</th>\n",
       "      <td>8059</td>\n",
       "      <td>supper</td>\n",
       "      <td>11</td>\n",
       "      <td>11.0</td>\n",
       "      <td>2.0</td>\n",
       "      <td>5.0</td>\n",
       "      <td>2.0</td>\n",
       "      <td>1907.0</td>\n",
       "      <td>1.0</td>\n",
       "      <td>12.0</td>\n",
       "      <td>...</td>\n",
       "      <td>339</td>\n",
       "      <td>135</td>\n",
       "      <td>26</td>\n",
       "      <td>133</td>\n",
       "      <td>207</td>\n",
       "      <td>1</td>\n",
       "      <td>89</td>\n",
       "      <td>161</td>\n",
       "      <td>10</td>\n",
       "      <td>2750000</td>\n",
       "    </tr>\n",
       "    <tr>\n",
       "      <th>8154</th>\n",
       "      <td>8157</td>\n",
       "      <td>supper</td>\n",
       "      <td>45</td>\n",
       "      <td>27.0</td>\n",
       "      <td>6.0</td>\n",
       "      <td>9.0</td>\n",
       "      <td>1.0</td>\n",
       "      <td>1970.0</td>\n",
       "      <td>2.0</td>\n",
       "      <td>6.0</td>\n",
       "      <td>...</td>\n",
       "      <td>2</td>\n",
       "      <td>1</td>\n",
       "      <td>0</td>\n",
       "      <td>3</td>\n",
       "      <td>8</td>\n",
       "      <td>1</td>\n",
       "      <td>0</td>\n",
       "      <td>19</td>\n",
       "      <td>3</td>\n",
       "      <td>7100000</td>\n",
       "    </tr>\n",
       "    <tr>\n",
       "      <th>8287</th>\n",
       "      <td>8290</td>\n",
       "      <td>summer</td>\n",
       "      <td>77</td>\n",
       "      <td>50.0</td>\n",
       "      <td>3.0</td>\n",
       "      <td>5.0</td>\n",
       "      <td>2.0</td>\n",
       "      <td>1957.0</td>\n",
       "      <td>3.0</td>\n",
       "      <td>8.0</td>\n",
       "      <td>...</td>\n",
       "      <td>214</td>\n",
       "      <td>85</td>\n",
       "      <td>21</td>\n",
       "      <td>48</td>\n",
       "      <td>89</td>\n",
       "      <td>1</td>\n",
       "      <td>54</td>\n",
       "      <td>146</td>\n",
       "      <td>12</td>\n",
       "      <td>11700000</td>\n",
       "    </tr>\n",
       "    <tr>\n",
       "      <th>8387</th>\n",
       "      <td>8390</td>\n",
       "      <td>summer</td>\n",
       "      <td>56</td>\n",
       "      <td>29.0</td>\n",
       "      <td>5.0</td>\n",
       "      <td>16.0</td>\n",
       "      <td>5.0</td>\n",
       "      <td>1987.0</td>\n",
       "      <td>2.0</td>\n",
       "      <td>10.0</td>\n",
       "      <td>...</td>\n",
       "      <td>74</td>\n",
       "      <td>32</td>\n",
       "      <td>8</td>\n",
       "      <td>19</td>\n",
       "      <td>34</td>\n",
       "      <td>0</td>\n",
       "      <td>10</td>\n",
       "      <td>121</td>\n",
       "      <td>7</td>\n",
       "      <td>10400000</td>\n",
       "    </tr>\n",
       "    <tr>\n",
       "      <th>8391</th>\n",
       "      <td>8394</td>\n",
       "      <td>summer</td>\n",
       "      <td>31</td>\n",
       "      <td>21.0</td>\n",
       "      <td>5.0</td>\n",
       "      <td>9.0</td>\n",
       "      <td>5.0</td>\n",
       "      <td>1962.0</td>\n",
       "      <td>1.0</td>\n",
       "      <td>5.0</td>\n",
       "      <td>...</td>\n",
       "      <td>99</td>\n",
       "      <td>43</td>\n",
       "      <td>8</td>\n",
       "      <td>17</td>\n",
       "      <td>41</td>\n",
       "      <td>1</td>\n",
       "      <td>18</td>\n",
       "      <td>93</td>\n",
       "      <td>5</td>\n",
       "      <td>6200000</td>\n",
       "    </tr>\n",
       "  </tbody>\n",
       "</table>\n",
       "<p>5 rows × 292 columns</p>\n",
       "</div>"
      ],
      "text/plain": [
       "        id timestamp  full_sq  life_sq  floor  max_floor  material  \\\n",
       "8056  8059    supper       11     11.0    2.0        5.0       2.0   \n",
       "8154  8157    supper       45     27.0    6.0        9.0       1.0   \n",
       "8287  8290    summer       77     50.0    3.0        5.0       2.0   \n",
       "8387  8390    summer       56     29.0    5.0       16.0       5.0   \n",
       "8391  8394    summer       31     21.0    5.0        9.0       5.0   \n",
       "\n",
       "      build_year  num_room  kitch_sq  ...  cafe_count_5000_price_2500  \\\n",
       "8056      1907.0       1.0      12.0  ...                         339   \n",
       "8154      1970.0       2.0       6.0  ...                           2   \n",
       "8287      1957.0       3.0       8.0  ...                         214   \n",
       "8387      1987.0       2.0      10.0  ...                          74   \n",
       "8391      1962.0       1.0       5.0  ...                          99   \n",
       "\n",
       "      cafe_count_5000_price_4000  cafe_count_5000_price_high  \\\n",
       "8056                         135                          26   \n",
       "8154                           1                           0   \n",
       "8287                          85                          21   \n",
       "8387                          32                           8   \n",
       "8391                          43                           8   \n",
       "\n",
       "      big_church_count_5000  church_count_5000  mosque_count_5000  \\\n",
       "8056                    133                207                  1   \n",
       "8154                      3                  8                  1   \n",
       "8287                     48                 89                  1   \n",
       "8387                     19                 34                  0   \n",
       "8391                     17                 41                  1   \n",
       "\n",
       "      leisure_count_5000  sport_count_5000  market_count_5000  price_doc  \n",
       "8056                  89               161                 10    2750000  \n",
       "8154                   0                19                  3    7100000  \n",
       "8287                  54               146                 12   11700000  \n",
       "8387                  10               121                  7   10400000  \n",
       "8391                  18                93                  5    6200000  \n",
       "\n",
       "[5 rows x 292 columns]"
      ]
     },
     "execution_count": 8,
     "metadata": {},
     "output_type": "execute_result"
    }
   ],
   "source": [
    "processed_data.head()"
   ]
  },
  {
   "cell_type": "code",
   "execution_count": 9,
   "id": "75add1fc",
   "metadata": {},
   "outputs": [],
   "source": [
    "data_one_hot = pd.get_dummies(processed_data, columns=['timestamp'])"
   ]
  },
  {
   "cell_type": "code",
   "execution_count": 10,
   "id": "7c7e264f",
   "metadata": {},
   "outputs": [
    {
     "data": {
      "text/html": [
       "<div>\n",
       "<style scoped>\n",
       "    .dataframe tbody tr th:only-of-type {\n",
       "        vertical-align: middle;\n",
       "    }\n",
       "\n",
       "    .dataframe tbody tr th {\n",
       "        vertical-align: top;\n",
       "    }\n",
       "\n",
       "    .dataframe thead th {\n",
       "        text-align: right;\n",
       "    }\n",
       "</style>\n",
       "<table border=\"1\" class=\"dataframe\">\n",
       "  <thead>\n",
       "    <tr style=\"text-align: right;\">\n",
       "      <th></th>\n",
       "      <th>id</th>\n",
       "      <th>full_sq</th>\n",
       "      <th>life_sq</th>\n",
       "      <th>floor</th>\n",
       "      <th>max_floor</th>\n",
       "      <th>material</th>\n",
       "      <th>build_year</th>\n",
       "      <th>num_room</th>\n",
       "      <th>kitch_sq</th>\n",
       "      <th>state</th>\n",
       "      <th>...</th>\n",
       "      <th>church_count_5000</th>\n",
       "      <th>mosque_count_5000</th>\n",
       "      <th>leisure_count_5000</th>\n",
       "      <th>sport_count_5000</th>\n",
       "      <th>market_count_5000</th>\n",
       "      <th>price_doc</th>\n",
       "      <th>timestamp_autumn</th>\n",
       "      <th>timestamp_summer</th>\n",
       "      <th>timestamp_supper</th>\n",
       "      <th>timestamp_winter</th>\n",
       "    </tr>\n",
       "  </thead>\n",
       "  <tbody>\n",
       "    <tr>\n",
       "      <th>8056</th>\n",
       "      <td>8059</td>\n",
       "      <td>11</td>\n",
       "      <td>11.0</td>\n",
       "      <td>2.0</td>\n",
       "      <td>5.0</td>\n",
       "      <td>2.0</td>\n",
       "      <td>1907.0</td>\n",
       "      <td>1.0</td>\n",
       "      <td>12.0</td>\n",
       "      <td>3.0</td>\n",
       "      <td>...</td>\n",
       "      <td>207</td>\n",
       "      <td>1</td>\n",
       "      <td>89</td>\n",
       "      <td>161</td>\n",
       "      <td>10</td>\n",
       "      <td>2750000</td>\n",
       "      <td>False</td>\n",
       "      <td>False</td>\n",
       "      <td>True</td>\n",
       "      <td>False</td>\n",
       "    </tr>\n",
       "    <tr>\n",
       "      <th>8154</th>\n",
       "      <td>8157</td>\n",
       "      <td>45</td>\n",
       "      <td>27.0</td>\n",
       "      <td>6.0</td>\n",
       "      <td>9.0</td>\n",
       "      <td>1.0</td>\n",
       "      <td>1970.0</td>\n",
       "      <td>2.0</td>\n",
       "      <td>6.0</td>\n",
       "      <td>3.0</td>\n",
       "      <td>...</td>\n",
       "      <td>8</td>\n",
       "      <td>1</td>\n",
       "      <td>0</td>\n",
       "      <td>19</td>\n",
       "      <td>3</td>\n",
       "      <td>7100000</td>\n",
       "      <td>False</td>\n",
       "      <td>False</td>\n",
       "      <td>True</td>\n",
       "      <td>False</td>\n",
       "    </tr>\n",
       "    <tr>\n",
       "      <th>8287</th>\n",
       "      <td>8290</td>\n",
       "      <td>77</td>\n",
       "      <td>50.0</td>\n",
       "      <td>3.0</td>\n",
       "      <td>5.0</td>\n",
       "      <td>2.0</td>\n",
       "      <td>1957.0</td>\n",
       "      <td>3.0</td>\n",
       "      <td>8.0</td>\n",
       "      <td>2.0</td>\n",
       "      <td>...</td>\n",
       "      <td>89</td>\n",
       "      <td>1</td>\n",
       "      <td>54</td>\n",
       "      <td>146</td>\n",
       "      <td>12</td>\n",
       "      <td>11700000</td>\n",
       "      <td>False</td>\n",
       "      <td>True</td>\n",
       "      <td>False</td>\n",
       "      <td>False</td>\n",
       "    </tr>\n",
       "    <tr>\n",
       "      <th>8387</th>\n",
       "      <td>8390</td>\n",
       "      <td>56</td>\n",
       "      <td>29.0</td>\n",
       "      <td>5.0</td>\n",
       "      <td>16.0</td>\n",
       "      <td>5.0</td>\n",
       "      <td>1987.0</td>\n",
       "      <td>2.0</td>\n",
       "      <td>10.0</td>\n",
       "      <td>2.0</td>\n",
       "      <td>...</td>\n",
       "      <td>34</td>\n",
       "      <td>0</td>\n",
       "      <td>10</td>\n",
       "      <td>121</td>\n",
       "      <td>7</td>\n",
       "      <td>10400000</td>\n",
       "      <td>False</td>\n",
       "      <td>True</td>\n",
       "      <td>False</td>\n",
       "      <td>False</td>\n",
       "    </tr>\n",
       "    <tr>\n",
       "      <th>8391</th>\n",
       "      <td>8394</td>\n",
       "      <td>31</td>\n",
       "      <td>21.0</td>\n",
       "      <td>5.0</td>\n",
       "      <td>9.0</td>\n",
       "      <td>5.0</td>\n",
       "      <td>1962.0</td>\n",
       "      <td>1.0</td>\n",
       "      <td>5.0</td>\n",
       "      <td>3.0</td>\n",
       "      <td>...</td>\n",
       "      <td>41</td>\n",
       "      <td>1</td>\n",
       "      <td>18</td>\n",
       "      <td>93</td>\n",
       "      <td>5</td>\n",
       "      <td>6200000</td>\n",
       "      <td>False</td>\n",
       "      <td>True</td>\n",
       "      <td>False</td>\n",
       "      <td>False</td>\n",
       "    </tr>\n",
       "  </tbody>\n",
       "</table>\n",
       "<p>5 rows × 295 columns</p>\n",
       "</div>"
      ],
      "text/plain": [
       "        id  full_sq  life_sq  floor  max_floor  material  build_year  \\\n",
       "8056  8059       11     11.0    2.0        5.0       2.0      1907.0   \n",
       "8154  8157       45     27.0    6.0        9.0       1.0      1970.0   \n",
       "8287  8290       77     50.0    3.0        5.0       2.0      1957.0   \n",
       "8387  8390       56     29.0    5.0       16.0       5.0      1987.0   \n",
       "8391  8394       31     21.0    5.0        9.0       5.0      1962.0   \n",
       "\n",
       "      num_room  kitch_sq  state  ...  church_count_5000  mosque_count_5000  \\\n",
       "8056       1.0      12.0    3.0  ...                207                  1   \n",
       "8154       2.0       6.0    3.0  ...                  8                  1   \n",
       "8287       3.0       8.0    2.0  ...                 89                  1   \n",
       "8387       2.0      10.0    2.0  ...                 34                  0   \n",
       "8391       1.0       5.0    3.0  ...                 41                  1   \n",
       "\n",
       "      leisure_count_5000  sport_count_5000  market_count_5000  price_doc  \\\n",
       "8056                  89               161                 10    2750000   \n",
       "8154                   0                19                  3    7100000   \n",
       "8287                  54               146                 12   11700000   \n",
       "8387                  10               121                  7   10400000   \n",
       "8391                  18                93                  5    6200000   \n",
       "\n",
       "      timestamp_autumn  timestamp_summer  timestamp_supper  timestamp_winter  \n",
       "8056             False             False              True             False  \n",
       "8154             False             False              True             False  \n",
       "8287             False              True             False             False  \n",
       "8387             False              True             False             False  \n",
       "8391             False              True             False             False  \n",
       "\n",
       "[5 rows x 295 columns]"
      ]
     },
     "execution_count": 10,
     "metadata": {},
     "output_type": "execute_result"
    }
   ],
   "source": [
    "data_one_hot.head()"
   ]
  },
  {
   "cell_type": "code",
   "execution_count": 17,
   "id": "1d7219af",
   "metadata": {},
   "outputs": [],
   "source": [
    "X, y = data_one_hot.drop(['id','price_doc'], axis=1), data_one_hot['price_doc']"
   ]
  },
  {
   "cell_type": "code",
   "execution_count": 18,
   "id": "135f44cd",
   "metadata": {},
   "outputs": [],
   "source": [
    "X_train, X_test, y_train, y_test = train_test_split(X, y, test_size=0.2, random_state=42)"
   ]
  },
  {
   "cell_type": "code",
   "execution_count": 19,
   "id": "a6ad7185",
   "metadata": {},
   "outputs": [],
   "source": [
    "from sklearn.preprocessing import StandardScaler\n",
    "scaler = StandardScaler()\n",
    "X_train_scaled = scaler.fit_transform(X_train)\n",
    "X_test_scaled = scaler.transform(X_test)"
   ]
  },
  {
   "cell_type": "code",
   "execution_count": 26,
   "id": "7a46c9af",
   "metadata": {},
   "outputs": [
    {
     "name": "stderr",
     "output_type": "stream",
     "text": [
      "/var/folders/qv/w_5nwf1d0452smw6s0s6sfh80000gp/T/ipykernel_1573/1852049743.py:3: RuntimeWarning: invalid value encountered in log1p\n",
      "  return np.sqrt(np.mean((np.log1p(y_true) - np.log1p(y_pred))**2))\n"
     ]
    }
   ],
   "source": [
    "def rmsle(y_true, y_pred):\n",
    "    # Clip predictions and true values to avoid log(0)\n",
    "    return np.sqrt(np.mean((np.log1p(y_true) - np.log1p(y_pred))**2))\n",
    "\n",
    "# Create a scorer\n",
    "rmsle_scorer = make_scorer(rmsle, greater_is_better=False)\n",
    "\n",
    "# Example data (assuming X and y are predefined)\n",
    "# X = your_features\n",
    "# y = your_target\n",
    "\n",
    "# Initialize the model\n",
    "model = xgb.XGBRegressor(n_estimators=100, random_state=42)\n",
    "\n",
    "# Set up cross-validation (e.g., KFold with 5 splits)\n",
    "cv = KFold(n_splits=5, shuffle=True, random_state=42)\n",
    "\n",
    "# Perform cross-validation and get RMSLE scores\n",
    "cv_scores = cross_val_score(model, X_train_scaled, y_train, cv=cv, scoring=rmsle_scorer)\n",
    "model.fit(X_train_scaled, y_train)\n",
    "\n",
    "# Permutation Feature Importance\n",
    "result = permutation_importance(model, X_test_scaled, y_test, n_repeats=10, random_state=42)"
   ]
  },
  {
   "cell_type": "code",
   "execution_count": null,
   "id": "e09903f4",
   "metadata": {},
   "outputs": [
    {
     "data": {
      "text/plain": [
       "array([-0.6286645 , -0.57076493, -0.60886188, -0.60543789, -0.59865105])"
      ]
     },
     "execution_count": 28,
     "metadata": {},
     "output_type": "execute_result"
    }
   ],
   "source": []
  },
  {
   "cell_type": "code",
   "execution_count": 27,
   "id": "8a20e8f8",
   "metadata": {},
   "outputs": [
    {
     "data": {
      "image/png": "[encoded data removed]",
      "text/plain": [
       "<Figure size 1000x600 with 1 Axes>"
      ]
     },
     "metadata": {},
     "output_type": "display_data"
    }
   ],
   "source": [
    "importance = result.importances_mean\n",
    "sorted_idx = importance.argsort()[::-1]\n",
    "\n",
    "sorted_feature_names = X.columns[sorted_idx]\n",
    "sorted_importance = importance[sorted_idx]\n",
    "\n",
    "top_20_feature_names = sorted_feature_names[:20]\n",
    "top_20_importance = sorted_importance[:20]\n",
    "\n",
    "plt.figure(figsize=(10, 6))\n",
    "plt.barh(range(len(top_20_feature_names)), top_20_importance)\n",
    "plt.yticks(range(len(top_20_feature_names)), top_20_feature_names)\n",
    "plt.xlabel('Importance')\n",
    "plt.title('Top 20 Permutation Feature Importance')\n",
    "plt.show()"
   ]
  },
  {
   "cell_type": "code",
   "execution_count": null,
   "id": "f84dcfc0",
   "metadata": {},
   "outputs": [],
   "source": []
  },
  {
   "cell_type": "code",
   "execution_count": null,
   "id": "7732eb5d",
   "metadata": {},
   "outputs": [],
   "source": []
  },
  {
   "cell_type": "code",
   "execution_count": null,
   "id": "cd556b0b",
   "metadata": {},
   "outputs": [],
   "source": []
  },
  {
   "cell_type": "code",
   "execution_count": 51,
   "id": "5b36fc1f",
   "metadata": {},
   "outputs": [],
   "source": [
    "from sklearn.preprocessing import StandardScaler\n",
    "scaler = StandardScaler()\n",
    "X_train_scaled = scaler.fit_transform(X_train)\n",
    "X_valid_scaled = scaler.transform(X_valid)"
   ]
  },
  {
   "cell_type": "code",
   "execution_count": 52,
   "id": "383214c1",
   "metadata": {},
   "outputs": [
    {
     "name": "stdout",
     "output_type": "stream",
     "text": [
      "(21329, 275)\n"
     ]
    },
    {
     "data": {
      "text/plain": [
       "(9142, 275)"
      ]
     },
     "execution_count": 52,
     "metadata": {},
     "output_type": "execute_result"
    }
   ],
   "source": [
    "print(X_train_scaled.shape)\n",
    "X_valid_scaled.shape"
   ]
  },
  {
   "cell_type": "code",
   "execution_count": 55,
   "id": "d755918e",
   "metadata": {},
   "outputs": [
    {
     "name": "stderr",
     "output_type": "stream",
     "text": [
      "Training Progress:   0%|                                                    | 0/100 [00:50<?, ?it/s]\n"
     ]
    }
   ],
   "source": [
    "randForest_reg = RandomForestRegressor(n_estimators=100, oob_score=True, random_state=42, n_jobs=-1)\n",
    "\n",
    "with tqdm(total=100, desc=\"Training Progress\", ncols=100) as pbar:\n",
    "    start_time = time.time()\n",
    "    randForest_reg.fit(X_train_scaled, y_train)\n",
    "    end_time = time.time()"
   ]
  },
  {
   "cell_type": "code",
   "execution_count": 56,
   "id": "25a0d2a7",
   "metadata": {},
   "outputs": [],
   "source": [
    "coef = randForest_reg.feature_importances_"
   ]
  },
  {
   "cell_type": "code",
   "execution_count": 58,
   "id": "942ced4d",
   "metadata": {},
   "outputs": [
    {
     "name": "stdout",
     "output_type": "stream",
     "text": [
      "2901223.9926785147\n"
     ]
    },
    {
     "data": {
      "text/html": [
       "<div>\n",
       "<style scoped>\n",
       "    .dataframe tbody tr th:only-of-type {\n",
       "        vertical-align: middle;\n",
       "    }\n",
       "\n",
       "    .dataframe tbody tr th {\n",
       "        vertical-align: top;\n",
       "    }\n",
       "\n",
       "    .dataframe thead th {\n",
       "        text-align: right;\n",
       "    }\n",
       "</style>\n",
       "<table border=\"1\" class=\"dataframe\">\n",
       "  <thead>\n",
       "    <tr style=\"text-align: right;\">\n",
       "      <th></th>\n",
       "      <th>Importance</th>\n",
       "    </tr>\n",
       "  </thead>\n",
       "  <tbody>\n",
       "    <tr>\n",
       "      <th>full_sq</th>\n",
       "      <td>0.382409</td>\n",
       "    </tr>\n",
       "    <tr>\n",
       "      <th>cafe_count_2000</th>\n",
       "      <td>0.042243</td>\n",
       "    </tr>\n",
       "    <tr>\n",
       "      <th>office_sqm_5000</th>\n",
       "      <td>0.022078</td>\n",
       "    </tr>\n",
       "    <tr>\n",
       "      <th>cafe_count_3000</th>\n",
       "      <td>0.021977</td>\n",
       "    </tr>\n",
       "    <tr>\n",
       "      <th>id</th>\n",
       "      <td>0.017111</td>\n",
       "    </tr>\n",
       "    <tr>\n",
       "      <th>...</th>\n",
       "      <td>...</td>\n",
       "    </tr>\n",
       "    <tr>\n",
       "      <th>mosque_count_1500</th>\n",
       "      <td>0.000040</td>\n",
       "    </tr>\n",
       "    <tr>\n",
       "      <th>mosque_count_2000</th>\n",
       "      <td>0.000026</td>\n",
       "    </tr>\n",
       "    <tr>\n",
       "      <th>build_count_foam</th>\n",
       "      <td>0.000023</td>\n",
       "    </tr>\n",
       "    <tr>\n",
       "      <th>mosque_count_500</th>\n",
       "      <td>0.000014</td>\n",
       "    </tr>\n",
       "    <tr>\n",
       "      <th>cafe_count_500_price_high</th>\n",
       "      <td>0.000011</td>\n",
       "    </tr>\n",
       "  </tbody>\n",
       "</table>\n",
       "<p>275 rows × 1 columns</p>\n",
       "</div>"
      ],
      "text/plain": [
       "                           Importance\n",
       "full_sq                      0.382409\n",
       "cafe_count_2000              0.042243\n",
       "office_sqm_5000              0.022078\n",
       "cafe_count_3000              0.021977\n",
       "id                           0.017111\n",
       "...                               ...\n",
       "mosque_count_1500            0.000040\n",
       "mosque_count_2000            0.000026\n",
       "build_count_foam             0.000023\n",
       "mosque_count_500             0.000014\n",
       "cafe_count_500_price_high    0.000011\n",
       "\n",
       "[275 rows x 1 columns]"
      ]
     },
     "execution_count": 58,
     "metadata": {},
     "output_type": "execute_result"
    }
   ],
   "source": [
    "x"
   ]
  },
  {
   "cell_type": "code",
   "execution_count": null,
   "id": "4dd0d385",
   "metadata": {},
   "outputs": [],
   "source": [
    "def train_validate_report(model, X_train_scaled=X_train_scaled, y_train=y_train, X_valid_scaled=X_valid_scaled, y_valid=y_valid, feature_names=data.columns[:-1], forest=False):\n",
    "    model.fit(X_train_scaled, y_train)\n",
    "    print(\"loss=%f\" % np.sqrt(mean_squared_error(y_valid, model.predict(X_valid_scaled))))\n",
    "    coef = model.feature_importances_ if forest else model.coef_\n",
    "    coef_name = \"Importances\" if forest else \"Coef\"\n",
    "    return pd.DataFrame(coef, feature_names, columns=[coef_name]).sort_values(by=coef_name, ascending=False)"
   ]
  },
  {
   "cell_type": "code",
   "execution_count": 57,
   "id": "8421657c",
   "metadata": {},
   "outputs": [
    {
     "data": {
      "text/plain": [
       "0.6264376827584718"
      ]
     },
     "execution_count": 57,
     "metadata": {},
     "output_type": "execute_result"
    }
   ],
   "source": [
    "randForest_reg.oob_score_"
   ]
  },
  {
   "cell_type": "code",
   "execution_count": 59,
   "id": "16fcbde5",
   "metadata": {},
   "outputs": [
    {
     "data": {
      "image/png": "[encoded data removed]",
      "text/plain": [
       "<Figure size 1000x600 with 1 Axes>"
      ]
     },
     "metadata": {},
     "output_type": "display_data"
    }
   ],
   "source": [
    "plt.figure(figsize=(10, 6))\n",
    "sns.histplot(y, kde=True, bins=30, color='blue')\n",
    "\n",
    "# Настройки графика\n",
    "plt.title('Распределение цен', fontsize=16)\n",
    "plt.xlabel('Цена', fontsize=14)\n",
    "plt.ylabel('Частота', fontsize=14)\n",
    "plt.show()"
   ]
  },
  {
   "cell_type": "code",
   "execution_count": 61,
   "id": "307d3abf",
   "metadata": {},
   "outputs": [
    {
     "data": {
      "image/png": "[encoded data removed]",
      "text/plain": [
       "<Figure size 1000x600 with 1 Axes>"
      ]
     },
     "metadata": {},
     "output_type": "display_data"
    }
   ],
   "source": [
    "plt.figure(figsize=(10, 6))\n",
    "sns.boxplot(x=y, color='green')\n",
    "\n",
    "# Настройки графика\n",
    "plt.title('Диаграмма размаха (Box Plot) для цен', fontsize=16)\n",
    "plt.xlabel('Цена', fontsize=14)\n",
    "plt.ylabel('Частота', fontsize=14)\n",
    "plt.show()"
   ]
  },
  {
   "cell_type": "code",
   "execution_count": null,
   "id": "37b4b06e",
   "metadata": {},
   "outputs": [],
   "source": []
  },
  {
   "cell_type": "code",
   "execution_count": null,
   "id": "0673ad6b",
   "metadata": {},
   "outputs": [],
   "source": []
  },
  {
   "cell_type": "code",
   "execution_count": null,
   "id": "741fb1e2",
   "metadata": {},
   "outputs": [],
   "source": []
  }
 ],
 "metadata": {
  "kernelspec": {
   "display_name": "bikesRent_env",
   "language": "python",
   "name": "bikerent"
  }
 },
 "nbformat": 4,
 "nbformat_minor": 5
}
